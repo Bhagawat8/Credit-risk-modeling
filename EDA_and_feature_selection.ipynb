{
 "cells": [
  {
   "cell_type": "code",
   "execution_count": 211,
   "id": "7219ec33",
   "metadata": {},
   "outputs": [],
   "source": [
    "# Import necessary libraries\n",
    "import numpy as np\n",
    "import pandas as pd\n",
    "import matplotlib.pyplot as plt\n",
    "from sklearn.metrics import r2_score\n",
    "from scipy.stats import chi2_contingency\n",
    "from statsmodels.stats.outliers_influence import variance_inflation_factor\n",
    "from sklearn.model_selection import train_test_split\n",
    "from sklearn.ensemble import RandomForestClassifier\n",
    "from sklearn.metrics import accuracy_score, classification_report, precision_recall_fscore_support\n",
    "import warnings\n",
    "import os"
   ]
  },
  {
   "cell_type": "code",
   "execution_count": 212,
   "id": "816790d7",
   "metadata": {},
   "outputs": [],
   "source": [
    "a1 = pd.read_csv(\"C:/Users/dell/Documents/Data science/campusX/project/credit risk modeling/case_study1.xlsx - case_study1.csv\")\n",
    "a2 = pd.read_csv(\"C:/Users/dell/Documents/Data science/campusX/project/credit risk modeling/case_study2.xlsx - case_study2.csv\")\n",
    "\n",
    "\n",
    "df1 = a1.copy()\n",
    "df2 = a2.copy()\n"
   ]
  },
  {
   "cell_type": "code",
   "execution_count": 213,
   "id": "5b834595",
   "metadata": {},
   "outputs": [
    {
     "name": "stdout",
     "output_type": "stream",
     "text": [
      "(51336, 26)\n",
      "(51336, 62)\n"
     ]
    }
   ],
   "source": [
    "print(df1.shape)\n",
    "print(df2.shape)"
   ]
  },
  {
   "cell_type": "code",
   "execution_count": 214,
   "id": "bdcab481",
   "metadata": {},
   "outputs": [
    {
     "name": "stdout",
     "output_type": "stream",
     "text": [
      "<class 'pandas.core.frame.DataFrame'>\n",
      "RangeIndex: 51336 entries, 0 to 51335\n",
      "Data columns (total 62 columns):\n",
      " #   Column                        Non-Null Count  Dtype  \n",
      "---  ------                        --------------  -----  \n",
      " 0   PROSPECTID                    51336 non-null  int64  \n",
      " 1   time_since_recent_payment     51336 non-null  int64  \n",
      " 2   time_since_first_deliquency   51336 non-null  int64  \n",
      " 3   time_since_recent_deliquency  51336 non-null  int64  \n",
      " 4   num_times_delinquent          51336 non-null  int64  \n",
      " 5   max_delinquency_level         51336 non-null  int64  \n",
      " 6   max_recent_level_of_deliq     51336 non-null  int64  \n",
      " 7   num_deliq_6mts                51336 non-null  int64  \n",
      " 8   num_deliq_12mts               51336 non-null  int64  \n",
      " 9   num_deliq_6_12mts             51336 non-null  int64  \n",
      " 10  max_deliq_6mts                51336 non-null  int64  \n",
      " 11  max_deliq_12mts               51336 non-null  int64  \n",
      " 12  num_times_30p_dpd             51336 non-null  int64  \n",
      " 13  num_times_60p_dpd             51336 non-null  int64  \n",
      " 14  num_std                       51336 non-null  int64  \n",
      " 15  num_std_6mts                  51336 non-null  int64  \n",
      " 16  num_std_12mts                 51336 non-null  int64  \n",
      " 17  num_sub                       51336 non-null  int64  \n",
      " 18  num_sub_6mts                  51336 non-null  int64  \n",
      " 19  num_sub_12mts                 51336 non-null  int64  \n",
      " 20  num_dbt                       51336 non-null  int64  \n",
      " 21  num_dbt_6mts                  51336 non-null  int64  \n",
      " 22  num_dbt_12mts                 51336 non-null  int64  \n",
      " 23  num_lss                       51336 non-null  int64  \n",
      " 24  num_lss_6mts                  51336 non-null  int64  \n",
      " 25  num_lss_12mts                 51336 non-null  int64  \n",
      " 26  recent_level_of_deliq         51336 non-null  int64  \n",
      " 27  tot_enq                       51336 non-null  int64  \n",
      " 28  CC_enq                        51336 non-null  int64  \n",
      " 29  CC_enq_L6m                    51336 non-null  int64  \n",
      " 30  CC_enq_L12m                   51336 non-null  int64  \n",
      " 31  PL_enq                        51336 non-null  int64  \n",
      " 32  PL_enq_L6m                    51336 non-null  int64  \n",
      " 33  PL_enq_L12m                   51336 non-null  int64  \n",
      " 34  time_since_recent_enq         51336 non-null  int64  \n",
      " 35  enq_L12m                      51336 non-null  int64  \n",
      " 36  enq_L6m                       51336 non-null  int64  \n",
      " 37  enq_L3m                       51336 non-null  int64  \n",
      " 38  MARITALSTATUS                 51336 non-null  object \n",
      " 39  EDUCATION                     51336 non-null  object \n",
      " 40  AGE                           51336 non-null  int64  \n",
      " 41  GENDER                        51336 non-null  object \n",
      " 42  NETMONTHLYINCOME              51336 non-null  int64  \n",
      " 43  Time_With_Curr_Empr           51336 non-null  int64  \n",
      " 44  pct_of_active_TLs_ever        51336 non-null  float64\n",
      " 45  pct_opened_TLs_L6m_of_L12m    51336 non-null  float64\n",
      " 46  pct_currentBal_all_TL         51336 non-null  float64\n",
      " 47  CC_utilization                51336 non-null  float64\n",
      " 48  CC_Flag                       51336 non-null  int64  \n",
      " 49  PL_utilization                51336 non-null  float64\n",
      " 50  PL_Flag                       51336 non-null  int64  \n",
      " 51  pct_PL_enq_L6m_of_L12m        51336 non-null  float64\n",
      " 52  pct_CC_enq_L6m_of_L12m        51336 non-null  float64\n",
      " 53  pct_PL_enq_L6m_of_ever        51336 non-null  float64\n",
      " 54  pct_CC_enq_L6m_of_ever        51336 non-null  float64\n",
      " 55  max_unsec_exposure_inPct      51336 non-null  float64\n",
      " 56  HL_Flag                       51336 non-null  int64  \n",
      " 57  GL_Flag                       51336 non-null  int64  \n",
      " 58  last_prod_enq2                51336 non-null  object \n",
      " 59  first_prod_enq2               51336 non-null  object \n",
      " 60  Credit_Score                  51336 non-null  int64  \n",
      " 61  Approved_Flag                 51336 non-null  object \n",
      "dtypes: float64(10), int64(46), object(6)\n",
      "memory usage: 24.3+ MB\n"
     ]
    }
   ],
   "source": [
    "df2.info()"
   ]
  },
  {
   "cell_type": "code",
   "execution_count": 215,
   "id": "409f8f64",
   "metadata": {},
   "outputs": [],
   "source": [
    "# Remove nulls\n",
    "df1 = df1.loc[df1['Age_Oldest_TL'] != -99999]"
   ]
  },
  {
   "cell_type": "code",
   "execution_count": 216,
   "id": "284b084e",
   "metadata": {},
   "outputs": [
    {
     "data": {
      "text/plain": [
       "['time_since_first_deliquency',\n",
       " 'time_since_recent_deliquency',\n",
       " 'max_delinquency_level',\n",
       " 'max_deliq_6mts',\n",
       " 'max_deliq_12mts',\n",
       " 'CC_utilization',\n",
       " 'PL_utilization',\n",
       " 'max_unsec_exposure_inPct']"
      ]
     },
     "execution_count": 216,
     "metadata": {},
     "output_type": "execute_result"
    }
   ],
   "source": [
    "columns_to_be_removed = []\n",
    "\n",
    "for i in df2.columns:\n",
    "    if df2.loc[df2[i] == -99999].shape[0] > 10000:\n",
    "        columns_to_be_removed .append(i)\n",
    "\n",
    "columns_to_be_removed"
   ]
  },
  {
   "cell_type": "code",
   "execution_count": 217,
   "id": "ed6d6fa6",
   "metadata": {},
   "outputs": [],
   "source": [
    "df2 = df2.drop(columns_to_be_removed, axis =1)"
   ]
  },
  {
   "cell_type": "code",
   "execution_count": 218,
   "id": "06828e08",
   "metadata": {},
   "outputs": [
    {
     "data": {
      "text/plain": [
       "(51336, 54)"
      ]
     },
     "execution_count": 218,
     "metadata": {},
     "output_type": "execute_result"
    }
   ],
   "source": [
    "df2.shape"
   ]
  },
  {
   "cell_type": "code",
   "execution_count": 219,
   "id": "8aeaa32a",
   "metadata": {},
   "outputs": [],
   "source": [
    "for i in df2.columns:\n",
    "    df2 = df2.loc[ df2[i] != -99999 ]"
   ]
  },
  {
   "cell_type": "code",
   "execution_count": 220,
   "id": "80f71e6f",
   "metadata": {},
   "outputs": [
    {
     "data": {
      "text/plain": [
       "PROSPECTID              0\n",
       "Total_TL                0\n",
       "Tot_Closed_TL           0\n",
       "Tot_Active_TL           0\n",
       "Total_TL_opened_L6M     0\n",
       "Tot_TL_closed_L6M       0\n",
       "pct_tl_open_L6M         0\n",
       "pct_tl_closed_L6M       0\n",
       "pct_active_tl           0\n",
       "pct_closed_tl           0\n",
       "Total_TL_opened_L12M    0\n",
       "Tot_TL_closed_L12M      0\n",
       "pct_tl_open_L12M        0\n",
       "pct_tl_closed_L12M      0\n",
       "Tot_Missed_Pmnt         0\n",
       "Auto_TL                 0\n",
       "CC_TL                   0\n",
       "Consumer_TL             0\n",
       "Gold_TL                 0\n",
       "Home_TL                 0\n",
       "PL_TL                   0\n",
       "Secured_TL              0\n",
       "Unsecured_TL            0\n",
       "Other_TL                0\n",
       "Age_Oldest_TL           0\n",
       "Age_Newest_TL           0\n",
       "dtype: int64"
      ]
     },
     "execution_count": 220,
     "metadata": {},
     "output_type": "execute_result"
    }
   ],
   "source": [
    "df1.isin([-99999]).sum()"
   ]
  },
  {
   "cell_type": "code",
   "execution_count": 221,
   "id": "de6e8e39",
   "metadata": {},
   "outputs": [
    {
     "data": {
      "text/plain": [
       "PROSPECTID                    0\n",
       "time_since_recent_payment     0\n",
       "num_times_delinquent          0\n",
       "max_recent_level_of_deliq     0\n",
       "num_deliq_6mts                0\n",
       "num_deliq_12mts               0\n",
       "num_deliq_6_12mts             0\n",
       "num_times_30p_dpd             0\n",
       "num_times_60p_dpd             0\n",
       "num_std                       0\n",
       "num_std_6mts                  0\n",
       "num_std_12mts                 0\n",
       "num_sub                       0\n",
       "num_sub_6mts                  0\n",
       "num_sub_12mts                 0\n",
       "num_dbt                       0\n",
       "num_dbt_6mts                  0\n",
       "num_dbt_12mts                 0\n",
       "num_lss                       0\n",
       "num_lss_6mts                  0\n",
       "num_lss_12mts                 0\n",
       "recent_level_of_deliq         0\n",
       "tot_enq                       0\n",
       "CC_enq                        0\n",
       "CC_enq_L6m                    0\n",
       "CC_enq_L12m                   0\n",
       "PL_enq                        0\n",
       "PL_enq_L6m                    0\n",
       "PL_enq_L12m                   0\n",
       "time_since_recent_enq         0\n",
       "enq_L12m                      0\n",
       "enq_L6m                       0\n",
       "enq_L3m                       0\n",
       "MARITALSTATUS                 0\n",
       "EDUCATION                     0\n",
       "AGE                           0\n",
       "GENDER                        0\n",
       "NETMONTHLYINCOME              0\n",
       "Time_With_Curr_Empr           0\n",
       "pct_of_active_TLs_ever        0\n",
       "pct_opened_TLs_L6m_of_L12m    0\n",
       "pct_currentBal_all_TL         0\n",
       "CC_Flag                       0\n",
       "PL_Flag                       0\n",
       "pct_PL_enq_L6m_of_L12m        0\n",
       "pct_CC_enq_L6m_of_L12m        0\n",
       "pct_PL_enq_L6m_of_ever        0\n",
       "pct_CC_enq_L6m_of_ever        0\n",
       "HL_Flag                       0\n",
       "GL_Flag                       0\n",
       "last_prod_enq2                0\n",
       "first_prod_enq2               0\n",
       "Credit_Score                  0\n",
       "Approved_Flag                 0\n",
       "dtype: int64"
      ]
     },
     "execution_count": 221,
     "metadata": {},
     "output_type": "execute_result"
    }
   ],
   "source": [
    "df2.isin([-99999]).sum()"
   ]
  },
  {
   "cell_type": "code",
   "execution_count": 222,
   "id": "1845e15c",
   "metadata": {},
   "outputs": [
    {
     "name": "stdout",
     "output_type": "stream",
     "text": [
      "PROSPECTID\n"
     ]
    }
   ],
   "source": [
    "# Checking common column names\n",
    "for i in list(df1.columns):\n",
    "    if i in list(df2.columns):\n",
    "        print (i)"
   ]
  },
  {
   "cell_type": "code",
   "execution_count": 223,
   "id": "fd07d8ed",
   "metadata": {},
   "outputs": [
    {
     "name": "stdout",
     "output_type": "stream",
     "text": [
      "(51296, 26)\n",
      "(42066, 54)\n"
     ]
    }
   ],
   "source": [
    "print(df1.shape)\n",
    "print(df2.shape)"
   ]
  },
  {
   "cell_type": "code",
   "execution_count": 224,
   "id": "e1f6854c",
   "metadata": {},
   "outputs": [],
   "source": [
    "# Merge the two dataframes, inner join so that no nulls are present\n",
    "df = pd.merge( df1, df2, how ='inner', left_on = ['PROSPECTID'], right_on = ['PROSPECTID'] )\n"
   ]
  },
  {
   "cell_type": "code",
   "execution_count": 226,
   "id": "da45c67f",
   "metadata": {},
   "outputs": [
    {
     "data": {
      "text/plain": [
       "(42064, 79)"
      ]
     },
     "execution_count": 226,
     "metadata": {},
     "output_type": "execute_result"
    }
   ],
   "source": [
    "df.shape"
   ]
  },
  {
   "cell_type": "code",
   "execution_count": 227,
   "id": "3ac99144",
   "metadata": {},
   "outputs": [
    {
     "data": {
      "text/plain": [
       "0"
      ]
     },
     "execution_count": 227,
     "metadata": {},
     "output_type": "execute_result"
    }
   ],
   "source": [
    "df2.isin([-99999]).sum().sum()"
   ]
  },
  {
   "cell_type": "code",
   "execution_count": 228,
   "id": "be808a78",
   "metadata": {},
   "outputs": [],
   "source": [
    "# We will divide the feature into \n",
    "# 1.categorical\n",
    "# 2.numerical\n",
    "# treat them separately"
   ]
  },
  {
   "cell_type": "code",
   "execution_count": 229,
   "id": "d437ce56",
   "metadata": {},
   "outputs": [
    {
     "name": "stdout",
     "output_type": "stream",
     "text": [
      "MARITALSTATUS\n",
      "EDUCATION\n",
      "GENDER\n",
      "last_prod_enq2\n",
      "first_prod_enq2\n",
      "Approved_Flag\n"
     ]
    }
   ],
   "source": [
    "# check how many columns are categorical\n",
    "for i in df.columns:\n",
    "    if df[i].dtype == 'object':\n",
    "        print(i)"
   ]
  },
  {
   "cell_type": "code",
   "execution_count": 230,
   "id": "26516330",
   "metadata": {},
   "outputs": [
    {
     "data": {
      "text/plain": [
       "Married    30886\n",
       "Single     11178\n",
       "Name: MARITALSTATUS, dtype: int64"
      ]
     },
     "execution_count": 230,
     "metadata": {},
     "output_type": "execute_result"
    }
   ],
   "source": [
    "df['MARITALSTATUS'].value_counts()"
   ]
  },
  {
   "cell_type": "code",
   "execution_count": 231,
   "id": "fef2c830",
   "metadata": {},
   "outputs": [
    {
     "data": {
      "text/plain": [
       "GRADUATE          14140\n",
       "12TH              11703\n",
       "SSC                7241\n",
       "UNDER GRADUATE     4572\n",
       "OTHERS             2291\n",
       "POST-GRADUATE      1898\n",
       "PROFESSIONAL        219\n",
       "Name: EDUCATION, dtype: int64"
      ]
     },
     "execution_count": 231,
     "metadata": {},
     "output_type": "execute_result"
    }
   ],
   "source": [
    "df['EDUCATION'].value_counts()"
   ]
  },
  {
   "cell_type": "code",
   "execution_count": 232,
   "id": "57e2fe81",
   "metadata": {},
   "outputs": [
    {
     "data": {
      "text/plain": [
       "ConsumerLoan    16480\n",
       "others          13653\n",
       "PL               7553\n",
       "CC               2195\n",
       "AL               1353\n",
       "HL                830\n",
       "Name: last_prod_enq2, dtype: int64"
      ]
     },
     "execution_count": 232,
     "metadata": {},
     "output_type": "execute_result"
    }
   ],
   "source": [
    "df['last_prod_enq2'].value_counts()"
   ]
  },
  {
   "cell_type": "code",
   "execution_count": 233,
   "id": "0a2ed705",
   "metadata": {},
   "outputs": [
    {
     "data": {
      "text/plain": [
       "others          20640\n",
       "ConsumerLoan    11075\n",
       "PL               4431\n",
       "AL               2641\n",
       "CC               1988\n",
       "HL               1289\n",
       "Name: first_prod_enq2, dtype: int64"
      ]
     },
     "execution_count": 233,
     "metadata": {},
     "output_type": "execute_result"
    }
   ],
   "source": [
    "df['first_prod_enq2'].value_counts()"
   ]
  },
  {
   "cell_type": "code",
   "execution_count": 234,
   "id": "03958311",
   "metadata": {},
   "outputs": [
    {
     "name": "stdout",
     "output_type": "stream",
     "text": [
      "MARITALSTATUS --- 3.578180861038862e-233\n",
      "EDUCATION --- 2.6942265249737532e-30\n",
      "GENDER --- 1.907936100186563e-05\n",
      "last_prod_enq2 --- 0.0\n",
      "first_prod_enq2 --- 7.84997610555419e-287\n"
     ]
    }
   ],
   "source": [
    "# Chi-square test\n",
    "for i in ['MARITALSTATUS', 'EDUCATION', 'GENDER', 'last_prod_enq2', 'first_prod_enq2']:\n",
    "    chi2, pval, _, _ = chi2_contingency(pd.crosstab(df[i], df['Approved_Flag']))\n",
    "    print(i, '---', pval)\n",
    "    \n",
    "# since all the categorical features have pvalue <= 0.05 we will accept all"
   ]
  },
  {
   "cell_type": "code",
   "execution_count": 235,
   "id": "634b35b6",
   "metadata": {},
   "outputs": [
    {
     "data": {
      "text/plain": [
       "72"
      ]
     },
     "execution_count": 235,
     "metadata": {},
     "output_type": "execute_result"
    }
   ],
   "source": [
    "# VIF for numerical columns\n",
    "numeric_columns = []\n",
    "for i in df.columns:\n",
    "    if df[i].dtype != 'object' and i not in ['PROSPECTID','Approved_Flag']:\n",
    "        numeric_columns.append(i)\n",
    "        \n",
    "len(numeric_columns)\n"
   ]
  },
  {
   "cell_type": "code",
   "execution_count": 236,
   "id": "d15abb3d",
   "metadata": {},
   "outputs": [
    {
     "name": "stderr",
     "output_type": "stream",
     "text": [
      "C:\\python310\\lib\\site-packages\\statsmodels\\stats\\outliers_influence.py:197: RuntimeWarning: divide by zero encountered in scalar divide\n",
      "  vif = 1. / (1. - r_squared_i)\n"
     ]
    },
    {
     "name": "stdout",
     "output_type": "stream",
     "text": [
      "0 --- inf\n"
     ]
    },
    {
     "name": "stderr",
     "output_type": "stream",
     "text": [
      "C:\\python310\\lib\\site-packages\\statsmodels\\stats\\outliers_influence.py:197: RuntimeWarning: divide by zero encountered in scalar divide\n",
      "  vif = 1. / (1. - r_squared_i)\n"
     ]
    },
    {
     "name": "stdout",
     "output_type": "stream",
     "text": [
      "0 --- inf\n",
      "0 --- 11.320180023967996\n",
      "0 --- 8.363698035000336\n",
      "0 --- 6.520647877790928\n",
      "0 --- 5.149501618212625\n",
      "1 --- 2.611111040579735\n"
     ]
    },
    {
     "name": "stderr",
     "output_type": "stream",
     "text": [
      "C:\\python310\\lib\\site-packages\\statsmodels\\stats\\outliers_influence.py:197: RuntimeWarning: divide by zero encountered in scalar divide\n",
      "  vif = 1. / (1. - r_squared_i)\n"
     ]
    },
    {
     "name": "stdout",
     "output_type": "stream",
     "text": [
      "2 --- inf\n",
      "2 --- 1788.7926256209232\n",
      "2 --- 8.601028256477228\n",
      "2 --- 3.8328007921530785\n",
      "3 --- 6.099653381646739\n",
      "3 --- 5.5813520096427585\n",
      "4 --- 1.985584353098778\n"
     ]
    },
    {
     "name": "stderr",
     "output_type": "stream",
     "text": [
      "C:\\python310\\lib\\site-packages\\statsmodels\\stats\\outliers_influence.py:197: RuntimeWarning: divide by zero encountered in scalar divide\n",
      "  vif = 1. / (1. - r_squared_i)\n"
     ]
    },
    {
     "name": "stdout",
     "output_type": "stream",
     "text": [
      "5 --- inf\n",
      "5 --- 4.809538302819343\n",
      "6 --- 23.270628983464636\n",
      "6 --- 30.595522588100053\n",
      "6 --- 4.3843464059655854\n",
      "7 --- 3.064658415523423\n",
      "8 --- 2.898639771299253\n",
      "9 --- 4.377876915347324\n",
      "10 --- 2.2078535836958433\n",
      "11 --- 4.916914200506861\n",
      "12 --- 5.214702030064725\n",
      "13 --- 3.3861625024231476\n",
      "14 --- 7.840583309478997\n",
      "14 --- 5.255034641721434\n"
     ]
    },
    {
     "name": "stderr",
     "output_type": "stream",
     "text": [
      "C:\\python310\\lib\\site-packages\\statsmodels\\stats\\outliers_influence.py:197: RuntimeWarning: divide by zero encountered in scalar divide\n",
      "  vif = 1. / (1. - r_squared_i)\n"
     ]
    },
    {
     "name": "stdout",
     "output_type": "stream",
     "text": [
      "15 --- inf\n",
      "15 --- 7.380634506427232\n",
      "15 --- 1.421005001517573\n",
      "16 --- 8.083255010190316\n",
      "16 --- 1.6241227524040112\n",
      "17 --- 7.257811920140003\n",
      "17 --- 15.59624383268298\n",
      "17 --- 1.8258570471324314\n",
      "18 --- 1.5080839450032661\n",
      "19 --- 2.172088834824577\n",
      "20 --- 2.623397553527229\n",
      "21 --- 2.2959970812106167\n",
      "22 --- 7.360578319196446\n",
      "22 --- 2.1602387773102554\n",
      "23 --- 2.8686288267891467\n",
      "24 --- 6.458218003637277\n",
      "24 --- 2.8474118865638247\n",
      "25 --- 4.7531981562840855\n",
      "26 --- 16.22735475594825\n",
      "26 --- 6.424377256363877\n",
      "26 --- 8.887080381808687\n",
      "26 --- 2.3804746142952666\n",
      "27 --- 8.609513476514548\n",
      "27 --- 13.06755093547673\n",
      "27 --- 3.500040056654654\n",
      "28 --- 1.9087955874813773\n",
      "29 --- 17.006562234161628\n",
      "29 --- 10.730485153719197\n",
      "29 --- 2.3538497522950275\n",
      "30 --- 22.104855915136433\n",
      "30 --- 2.7971639638512906\n",
      "31 --- 3.424171203217696\n",
      "32 --- 10.175021454450935\n",
      "32 --- 6.408710354561301\n",
      "32 --- 1.0011511962625614\n",
      "33 --- 3.069197305397273\n",
      "34 --- 2.8091261600643707\n",
      "35 --- 20.249538381980678\n",
      "35 --- 15.864576541593774\n",
      "35 --- 1.8331649740532168\n",
      "36 --- 1.5680839909542037\n",
      "37 --- 1.9307572353811677\n",
      "38 --- 4.331265056645247\n",
      "39 --- 9.390334396150173\n"
     ]
    }
   ],
   "source": [
    "# VIF sequentially check\n",
    "\n",
    "vif_data = df[numeric_columns]\n",
    "total_columns = vif_data.shape[1]\n",
    "columns_to_be_kept = []\n",
    "column_index = 0\n",
    "\n",
    "\n",
    "\n",
    "for i in range (0,total_columns):\n",
    "    \n",
    "    vif_value = variance_inflation_factor(vif_data, column_index)\n",
    "    print (column_index,'---',vif_value)\n",
    "    \n",
    "    \n",
    "    if vif_value <= 6:\n",
    "        columns_to_be_kept.append( numeric_columns[i] )\n",
    "        column_index = column_index+1\n",
    "    \n",
    "    else:\n",
    "        vif_data = vif_data.drop([ numeric_columns[i] ] , axis=1)"
   ]
  },
  {
   "cell_type": "code",
   "execution_count": 237,
   "id": "9adcf821",
   "metadata": {},
   "outputs": [
    {
     "data": {
      "text/plain": [
       "39"
      ]
     },
     "execution_count": 237,
     "metadata": {},
     "output_type": "execute_result"
    }
   ],
   "source": [
    "len(columns_to_be_kept)"
   ]
  },
  {
   "cell_type": "code",
   "execution_count": 238,
   "id": "30b37eb0",
   "metadata": {},
   "outputs": [],
   "source": [
    "# check Anova for columns_to_be_kept \n",
    "\n",
    "from scipy.stats import f_oneway\n",
    "\n",
    "columns_to_be_kept_numerical = []\n",
    "\n",
    "for i in columns_to_be_kept:\n",
    "    a = list(df[i])  \n",
    "    b = list(df['Approved_Flag'])  \n",
    "    \n",
    "    group_P1 = [value for value, group in zip(a, b) if group == 'P1']\n",
    "    group_P2 = [value for value, group in zip(a, b) if group == 'P2']\n",
    "    group_P3 = [value for value, group in zip(a, b) if group == 'P3']\n",
    "    group_P4 = [value for value, group in zip(a, b) if group == 'P4']\n",
    "\n",
    "\n",
    "    f_statistic, p_value = f_oneway(group_P1, group_P2, group_P3, group_P4)\n",
    "\n",
    "    if p_value <= 0.05:\n",
    "        columns_to_be_kept_numerical.append(i)"
   ]
  },
  {
   "cell_type": "code",
   "execution_count": 239,
   "id": "c7e4537c",
   "metadata": {},
   "outputs": [
    {
     "data": {
      "text/plain": [
       "37"
      ]
     },
     "execution_count": 239,
     "metadata": {},
     "output_type": "execute_result"
    }
   ],
   "source": [
    "len(columns_to_be_kept_numerical)"
   ]
  },
  {
   "cell_type": "code",
   "execution_count": 240,
   "id": "0ada126f",
   "metadata": {},
   "outputs": [
    {
     "data": {
      "text/html": [
       "<div>\n",
       "<style scoped>\n",
       "    .dataframe tbody tr th:only-of-type {\n",
       "        vertical-align: middle;\n",
       "    }\n",
       "\n",
       "    .dataframe tbody tr th {\n",
       "        vertical-align: top;\n",
       "    }\n",
       "\n",
       "    .dataframe thead th {\n",
       "        text-align: right;\n",
       "    }\n",
       "</style>\n",
       "<table border=\"1\" class=\"dataframe\">\n",
       "  <thead>\n",
       "    <tr style=\"text-align: right;\">\n",
       "      <th></th>\n",
       "      <th>pct_tl_open_L6M</th>\n",
       "      <th>pct_tl_closed_L6M</th>\n",
       "      <th>Tot_TL_closed_L12M</th>\n",
       "      <th>pct_tl_closed_L12M</th>\n",
       "      <th>Tot_Missed_Pmnt</th>\n",
       "      <th>CC_TL</th>\n",
       "      <th>Home_TL</th>\n",
       "      <th>PL_TL</th>\n",
       "      <th>Secured_TL</th>\n",
       "      <th>Unsecured_TL</th>\n",
       "      <th>...</th>\n",
       "      <th>time_since_recent_enq</th>\n",
       "      <th>enq_L3m</th>\n",
       "      <th>NETMONTHLYINCOME</th>\n",
       "      <th>Time_With_Curr_Empr</th>\n",
       "      <th>CC_Flag</th>\n",
       "      <th>PL_Flag</th>\n",
       "      <th>pct_PL_enq_L6m_of_ever</th>\n",
       "      <th>pct_CC_enq_L6m_of_ever</th>\n",
       "      <th>HL_Flag</th>\n",
       "      <th>GL_Flag</th>\n",
       "    </tr>\n",
       "  </thead>\n",
       "  <tbody>\n",
       "    <tr>\n",
       "      <th>0</th>\n",
       "      <td>0.000</td>\n",
       "      <td>0.00</td>\n",
       "      <td>0</td>\n",
       "      <td>0.000</td>\n",
       "      <td>0</td>\n",
       "      <td>0</td>\n",
       "      <td>0</td>\n",
       "      <td>4</td>\n",
       "      <td>1</td>\n",
       "      <td>4</td>\n",
       "      <td>...</td>\n",
       "      <td>566</td>\n",
       "      <td>0</td>\n",
       "      <td>51000</td>\n",
       "      <td>114</td>\n",
       "      <td>0</td>\n",
       "      <td>1</td>\n",
       "      <td>0.000</td>\n",
       "      <td>0.0</td>\n",
       "      <td>1</td>\n",
       "      <td>0</td>\n",
       "    </tr>\n",
       "    <tr>\n",
       "      <th>1</th>\n",
       "      <td>0.000</td>\n",
       "      <td>0.00</td>\n",
       "      <td>0</td>\n",
       "      <td>0.000</td>\n",
       "      <td>0</td>\n",
       "      <td>0</td>\n",
       "      <td>0</td>\n",
       "      <td>0</td>\n",
       "      <td>0</td>\n",
       "      <td>1</td>\n",
       "      <td>...</td>\n",
       "      <td>209</td>\n",
       "      <td>0</td>\n",
       "      <td>19000</td>\n",
       "      <td>50</td>\n",
       "      <td>0</td>\n",
       "      <td>0</td>\n",
       "      <td>0.000</td>\n",
       "      <td>0.0</td>\n",
       "      <td>0</td>\n",
       "      <td>0</td>\n",
       "    </tr>\n",
       "    <tr>\n",
       "      <th>2</th>\n",
       "      <td>0.125</td>\n",
       "      <td>0.00</td>\n",
       "      <td>0</td>\n",
       "      <td>0.000</td>\n",
       "      <td>1</td>\n",
       "      <td>0</td>\n",
       "      <td>0</td>\n",
       "      <td>0</td>\n",
       "      <td>2</td>\n",
       "      <td>6</td>\n",
       "      <td>...</td>\n",
       "      <td>587</td>\n",
       "      <td>0</td>\n",
       "      <td>18</td>\n",
       "      <td>191</td>\n",
       "      <td>0</td>\n",
       "      <td>0</td>\n",
       "      <td>0.000</td>\n",
       "      <td>0.0</td>\n",
       "      <td>1</td>\n",
       "      <td>0</td>\n",
       "    </tr>\n",
       "    <tr>\n",
       "      <th>3</th>\n",
       "      <td>0.000</td>\n",
       "      <td>0.00</td>\n",
       "      <td>0</td>\n",
       "      <td>0.000</td>\n",
       "      <td>0</td>\n",
       "      <td>0</td>\n",
       "      <td>0</td>\n",
       "      <td>0</td>\n",
       "      <td>3</td>\n",
       "      <td>0</td>\n",
       "      <td>...</td>\n",
       "      <td>3951</td>\n",
       "      <td>0</td>\n",
       "      <td>15000</td>\n",
       "      <td>75</td>\n",
       "      <td>0</td>\n",
       "      <td>0</td>\n",
       "      <td>0.000</td>\n",
       "      <td>0.0</td>\n",
       "      <td>0</td>\n",
       "      <td>0</td>\n",
       "    </tr>\n",
       "    <tr>\n",
       "      <th>4</th>\n",
       "      <td>0.000</td>\n",
       "      <td>0.00</td>\n",
       "      <td>1</td>\n",
       "      <td>0.167</td>\n",
       "      <td>0</td>\n",
       "      <td>0</td>\n",
       "      <td>0</td>\n",
       "      <td>0</td>\n",
       "      <td>6</td>\n",
       "      <td>0</td>\n",
       "      <td>...</td>\n",
       "      <td>7</td>\n",
       "      <td>4</td>\n",
       "      <td>0</td>\n",
       "      <td>154</td>\n",
       "      <td>0</td>\n",
       "      <td>0</td>\n",
       "      <td>0.429</td>\n",
       "      <td>0.0</td>\n",
       "      <td>1</td>\n",
       "      <td>0</td>\n",
       "    </tr>\n",
       "    <tr>\n",
       "      <th>...</th>\n",
       "      <td>...</td>\n",
       "      <td>...</td>\n",
       "      <td>...</td>\n",
       "      <td>...</td>\n",
       "      <td>...</td>\n",
       "      <td>...</td>\n",
       "      <td>...</td>\n",
       "      <td>...</td>\n",
       "      <td>...</td>\n",
       "      <td>...</td>\n",
       "      <td>...</td>\n",
       "      <td>...</td>\n",
       "      <td>...</td>\n",
       "      <td>...</td>\n",
       "      <td>...</td>\n",
       "      <td>...</td>\n",
       "      <td>...</td>\n",
       "      <td>...</td>\n",
       "      <td>...</td>\n",
       "      <td>...</td>\n",
       "      <td>...</td>\n",
       "    </tr>\n",
       "    <tr>\n",
       "      <th>42059</th>\n",
       "      <td>0.333</td>\n",
       "      <td>0.00</td>\n",
       "      <td>0</td>\n",
       "      <td>0.000</td>\n",
       "      <td>0</td>\n",
       "      <td>0</td>\n",
       "      <td>0</td>\n",
       "      <td>0</td>\n",
       "      <td>0</td>\n",
       "      <td>3</td>\n",
       "      <td>...</td>\n",
       "      <td>0</td>\n",
       "      <td>1</td>\n",
       "      <td>18500</td>\n",
       "      <td>249</td>\n",
       "      <td>0</td>\n",
       "      <td>0</td>\n",
       "      <td>0.000</td>\n",
       "      <td>0.0</td>\n",
       "      <td>0</td>\n",
       "      <td>0</td>\n",
       "    </tr>\n",
       "    <tr>\n",
       "      <th>42060</th>\n",
       "      <td>0.000</td>\n",
       "      <td>0.25</td>\n",
       "      <td>1</td>\n",
       "      <td>0.250</td>\n",
       "      <td>0</td>\n",
       "      <td>0</td>\n",
       "      <td>0</td>\n",
       "      <td>0</td>\n",
       "      <td>2</td>\n",
       "      <td>2</td>\n",
       "      <td>...</td>\n",
       "      <td>203</td>\n",
       "      <td>0</td>\n",
       "      <td>25000</td>\n",
       "      <td>186</td>\n",
       "      <td>0</td>\n",
       "      <td>0</td>\n",
       "      <td>0.000</td>\n",
       "      <td>0.0</td>\n",
       "      <td>0</td>\n",
       "      <td>0</td>\n",
       "    </tr>\n",
       "    <tr>\n",
       "      <th>42061</th>\n",
       "      <td>0.500</td>\n",
       "      <td>0.50</td>\n",
       "      <td>1</td>\n",
       "      <td>0.500</td>\n",
       "      <td>0</td>\n",
       "      <td>0</td>\n",
       "      <td>0</td>\n",
       "      <td>0</td>\n",
       "      <td>0</td>\n",
       "      <td>2</td>\n",
       "      <td>...</td>\n",
       "      <td>1</td>\n",
       "      <td>2</td>\n",
       "      <td>18000</td>\n",
       "      <td>66</td>\n",
       "      <td>0</td>\n",
       "      <td>0</td>\n",
       "      <td>1.000</td>\n",
       "      <td>0.0</td>\n",
       "      <td>0</td>\n",
       "      <td>0</td>\n",
       "    </tr>\n",
       "    <tr>\n",
       "      <th>42062</th>\n",
       "      <td>0.000</td>\n",
       "      <td>0.00</td>\n",
       "      <td>1</td>\n",
       "      <td>0.500</td>\n",
       "      <td>0</td>\n",
       "      <td>0</td>\n",
       "      <td>0</td>\n",
       "      <td>0</td>\n",
       "      <td>0</td>\n",
       "      <td>2</td>\n",
       "      <td>...</td>\n",
       "      <td>242</td>\n",
       "      <td>0</td>\n",
       "      <td>12802</td>\n",
       "      <td>54</td>\n",
       "      <td>0</td>\n",
       "      <td>0</td>\n",
       "      <td>0.000</td>\n",
       "      <td>0.0</td>\n",
       "      <td>0</td>\n",
       "      <td>0</td>\n",
       "    </tr>\n",
       "    <tr>\n",
       "      <th>42063</th>\n",
       "      <td>0.000</td>\n",
       "      <td>0.00</td>\n",
       "      <td>0</td>\n",
       "      <td>0.000</td>\n",
       "      <td>0</td>\n",
       "      <td>0</td>\n",
       "      <td>0</td>\n",
       "      <td>0</td>\n",
       "      <td>1</td>\n",
       "      <td>0</td>\n",
       "      <td>...</td>\n",
       "      <td>13</td>\n",
       "      <td>1</td>\n",
       "      <td>16000</td>\n",
       "      <td>102</td>\n",
       "      <td>0</td>\n",
       "      <td>0</td>\n",
       "      <td>0.000</td>\n",
       "      <td>0.0</td>\n",
       "      <td>0</td>\n",
       "      <td>0</td>\n",
       "    </tr>\n",
       "  </tbody>\n",
       "</table>\n",
       "<p>42064 rows × 37 columns</p>\n",
       "</div>"
      ],
      "text/plain": [
       "       pct_tl_open_L6M  pct_tl_closed_L6M  Tot_TL_closed_L12M  \\\n",
       "0                0.000               0.00                   0   \n",
       "1                0.000               0.00                   0   \n",
       "2                0.125               0.00                   0   \n",
       "3                0.000               0.00                   0   \n",
       "4                0.000               0.00                   1   \n",
       "...                ...                ...                 ...   \n",
       "42059            0.333               0.00                   0   \n",
       "42060            0.000               0.25                   1   \n",
       "42061            0.500               0.50                   1   \n",
       "42062            0.000               0.00                   1   \n",
       "42063            0.000               0.00                   0   \n",
       "\n",
       "       pct_tl_closed_L12M  Tot_Missed_Pmnt  CC_TL  Home_TL  PL_TL  Secured_TL  \\\n",
       "0                   0.000                0      0        0      4           1   \n",
       "1                   0.000                0      0        0      0           0   \n",
       "2                   0.000                1      0        0      0           2   \n",
       "3                   0.000                0      0        0      0           3   \n",
       "4                   0.167                0      0        0      0           6   \n",
       "...                   ...              ...    ...      ...    ...         ...   \n",
       "42059               0.000                0      0        0      0           0   \n",
       "42060               0.250                0      0        0      0           2   \n",
       "42061               0.500                0      0        0      0           0   \n",
       "42062               0.500                0      0        0      0           0   \n",
       "42063               0.000                0      0        0      0           1   \n",
       "\n",
       "       Unsecured_TL  ...  time_since_recent_enq  enq_L3m  NETMONTHLYINCOME  \\\n",
       "0                 4  ...                    566        0             51000   \n",
       "1                 1  ...                    209        0             19000   \n",
       "2                 6  ...                    587        0                18   \n",
       "3                 0  ...                   3951        0             15000   \n",
       "4                 0  ...                      7        4                 0   \n",
       "...             ...  ...                    ...      ...               ...   \n",
       "42059             3  ...                      0        1             18500   \n",
       "42060             2  ...                    203        0             25000   \n",
       "42061             2  ...                      1        2             18000   \n",
       "42062             2  ...                    242        0             12802   \n",
       "42063             0  ...                     13        1             16000   \n",
       "\n",
       "       Time_With_Curr_Empr  CC_Flag  PL_Flag  pct_PL_enq_L6m_of_ever  \\\n",
       "0                      114        0        1                   0.000   \n",
       "1                       50        0        0                   0.000   \n",
       "2                      191        0        0                   0.000   \n",
       "3                       75        0        0                   0.000   \n",
       "4                      154        0        0                   0.429   \n",
       "...                    ...      ...      ...                     ...   \n",
       "42059                  249        0        0                   0.000   \n",
       "42060                  186        0        0                   0.000   \n",
       "42061                   66        0        0                   1.000   \n",
       "42062                   54        0        0                   0.000   \n",
       "42063                  102        0        0                   0.000   \n",
       "\n",
       "       pct_CC_enq_L6m_of_ever  HL_Flag  GL_Flag  \n",
       "0                         0.0        1        0  \n",
       "1                         0.0        0        0  \n",
       "2                         0.0        1        0  \n",
       "3                         0.0        0        0  \n",
       "4                         0.0        1        0  \n",
       "...                       ...      ...      ...  \n",
       "42059                     0.0        0        0  \n",
       "42060                     0.0        0        0  \n",
       "42061                     0.0        0        0  \n",
       "42062                     0.0        0        0  \n",
       "42063                     0.0        0        0  \n",
       "\n",
       "[42064 rows x 37 columns]"
      ]
     },
     "execution_count": 240,
     "metadata": {},
     "output_type": "execute_result"
    }
   ],
   "source": [
    "df[columns_to_be_kept_numerical ]"
   ]
  },
  {
   "cell_type": "code",
   "execution_count": 241,
   "id": "28166546",
   "metadata": {},
   "outputs": [],
   "source": [
    "# feature selection is done for cat and num features\n",
    "# listing all the final features\n",
    "features = columns_to_be_kept_numerical + ['MARITALSTATUS', 'EDUCATION', 'GENDER', 'last_prod_enq2', 'first_prod_enq2']\n",
    "df = df[features + ['Approved_Flag']]"
   ]
  },
  {
   "cell_type": "code",
   "execution_count": 242,
   "id": "21b5754f",
   "metadata": {},
   "outputs": [
    {
     "data": {
      "text/plain": [
       "(42064, 43)"
      ]
     },
     "execution_count": 242,
     "metadata": {},
     "output_type": "execute_result"
    }
   ],
   "source": [
    "df.shape"
   ]
  },
  {
   "cell_type": "code",
   "execution_count": 243,
   "id": "cc2f54f6",
   "metadata": {},
   "outputs": [
    {
     "name": "stdout",
     "output_type": "stream",
     "text": [
      "['Married' 'Single']\n",
      "['12TH' 'GRADUATE' 'SSC' 'POST-GRADUATE' 'UNDER GRADUATE' 'OTHERS'\n",
      " 'PROFESSIONAL']\n",
      "['M' 'F']\n",
      "['PL' 'ConsumerLoan' 'AL' 'CC' 'others' 'HL']\n",
      "['PL' 'ConsumerLoan' 'others' 'AL' 'HL' 'CC']\n"
     ]
    }
   ],
   "source": [
    "# Label encoding for the categorical features\n",
    "['MARITALSTATUS', 'EDUCATION', 'GENDER' , 'last_prod_enq2' ,'first_prod_enq2']\n",
    "\n",
    "\n",
    "\n",
    "print(df['MARITALSTATUS'].unique())    \n",
    "print(df['EDUCATION'].unique())\n",
    "print(df['GENDER'].unique())\n",
    "print(df['last_prod_enq2'].unique())\n",
    "print(df['first_prod_enq2'].unique())"
   ]
  },
  {
   "cell_type": "code",
   "execution_count": 244,
   "id": "4e0a3b45",
   "metadata": {},
   "outputs": [],
   "source": [
    "# Ordinal feature -- EDUCATION\n",
    "# SSC            : 1\n",
    "# 12TH           : 2\n",
    "# GRADUATE       : 3\n",
    "# UNDER GRADUATE : 3\n",
    "# POST-GRADUATE  : 4\n",
    "# OTHERS         : 1\n",
    "# PROFESSIONAL   : 3\n",
    "\n",
    "\n",
    "# Others has to be verified by the business end user "
   ]
  },
  {
   "cell_type": "code",
   "execution_count": 245,
   "id": "7e75d928",
   "metadata": {},
   "outputs": [],
   "source": [
    "# label encoding\n",
    "df.loc[df['EDUCATION'] == 'SSC',['EDUCATION']]              = 1\n",
    "df.loc[df['EDUCATION'] == '12TH',['EDUCATION']]             = 2\n",
    "df.loc[df['EDUCATION'] == 'GRADUATE',['EDUCATION']]         = 3\n",
    "df.loc[df['EDUCATION'] == 'UNDER GRADUATE',['EDUCATION']]   = 3\n",
    "df.loc[df['EDUCATION'] == 'POST-GRADUATE',['EDUCATION']]    = 4\n",
    "df.loc[df['EDUCATION'] == 'OTHERS',['EDUCATION']]           = 1\n",
    "df.loc[df['EDUCATION'] == 'PROFESSIONAL',['EDUCATION']]     = 3"
   ]
  },
  {
   "cell_type": "code",
   "execution_count": 246,
   "id": "8770a405",
   "metadata": {},
   "outputs": [
    {
     "data": {
      "text/plain": [
       "3    18931\n",
       "2    11703\n",
       "1     9532\n",
       "4     1898\n",
       "Name: EDUCATION, dtype: int64"
      ]
     },
     "execution_count": 246,
     "metadata": {},
     "output_type": "execute_result"
    }
   ],
   "source": [
    "df['EDUCATION'].value_counts()"
   ]
  },
  {
   "cell_type": "code",
   "execution_count": 247,
   "id": "12e5110f",
   "metadata": {},
   "outputs": [
    {
     "name": "stdout",
     "output_type": "stream",
     "text": [
      "<class 'pandas.core.frame.DataFrame'>\n",
      "Int64Index: 42064 entries, 0 to 42063\n",
      "Data columns (total 43 columns):\n",
      " #   Column                     Non-Null Count  Dtype  \n",
      "---  ------                     --------------  -----  \n",
      " 0   pct_tl_open_L6M            42064 non-null  float64\n",
      " 1   pct_tl_closed_L6M          42064 non-null  float64\n",
      " 2   Tot_TL_closed_L12M         42064 non-null  int64  \n",
      " 3   pct_tl_closed_L12M         42064 non-null  float64\n",
      " 4   Tot_Missed_Pmnt            42064 non-null  int64  \n",
      " 5   CC_TL                      42064 non-null  int64  \n",
      " 6   Home_TL                    42064 non-null  int64  \n",
      " 7   PL_TL                      42064 non-null  int64  \n",
      " 8   Secured_TL                 42064 non-null  int64  \n",
      " 9   Unsecured_TL               42064 non-null  int64  \n",
      " 10  Other_TL                   42064 non-null  int64  \n",
      " 11  Age_Oldest_TL              42064 non-null  int64  \n",
      " 12  Age_Newest_TL              42064 non-null  int64  \n",
      " 13  time_since_recent_payment  42064 non-null  int64  \n",
      " 14  max_recent_level_of_deliq  42064 non-null  int64  \n",
      " 15  num_deliq_6_12mts          42064 non-null  int64  \n",
      " 16  num_times_60p_dpd          42064 non-null  int64  \n",
      " 17  num_std_12mts              42064 non-null  int64  \n",
      " 18  num_sub                    42064 non-null  int64  \n",
      " 19  num_sub_6mts               42064 non-null  int64  \n",
      " 20  num_sub_12mts              42064 non-null  int64  \n",
      " 21  num_dbt                    42064 non-null  int64  \n",
      " 22  num_dbt_12mts              42064 non-null  int64  \n",
      " 23  num_lss                    42064 non-null  int64  \n",
      " 24  recent_level_of_deliq      42064 non-null  int64  \n",
      " 25  CC_enq_L12m                42064 non-null  int64  \n",
      " 26  PL_enq_L12m                42064 non-null  int64  \n",
      " 27  time_since_recent_enq      42064 non-null  int64  \n",
      " 28  enq_L3m                    42064 non-null  int64  \n",
      " 29  NETMONTHLYINCOME           42064 non-null  int64  \n",
      " 30  Time_With_Curr_Empr        42064 non-null  int64  \n",
      " 31  CC_Flag                    42064 non-null  int64  \n",
      " 32  PL_Flag                    42064 non-null  int64  \n",
      " 33  pct_PL_enq_L6m_of_ever     42064 non-null  float64\n",
      " 34  pct_CC_enq_L6m_of_ever     42064 non-null  float64\n",
      " 35  HL_Flag                    42064 non-null  int64  \n",
      " 36  GL_Flag                    42064 non-null  int64  \n",
      " 37  MARITALSTATUS              42064 non-null  object \n",
      " 38  EDUCATION                  42064 non-null  int32  \n",
      " 39  GENDER                     42064 non-null  object \n",
      " 40  last_prod_enq2             42064 non-null  object \n",
      " 41  first_prod_enq2            42064 non-null  object \n",
      " 42  Approved_Flag              42064 non-null  object \n",
      "dtypes: float64(5), int32(1), int64(32), object(5)\n",
      "memory usage: 14.0+ MB\n"
     ]
    }
   ],
   "source": [
    "df['EDUCATION'] = df['EDUCATION'].astype(int)\n",
    "df.info()"
   ]
  },
  {
   "cell_type": "code",
   "execution_count": 256,
   "id": "7522de27",
   "metadata": {},
   "outputs": [
    {
     "name": "stdout",
     "output_type": "stream",
     "text": [
      "<class 'pandas.core.frame.DataFrame'>\n",
      "Int64Index: 42064 entries, 0 to 42063\n",
      "Data columns (total 55 columns):\n",
      " #   Column                        Non-Null Count  Dtype  \n",
      "---  ------                        --------------  -----  \n",
      " 0   pct_tl_open_L6M               42064 non-null  float64\n",
      " 1   pct_tl_closed_L6M             42064 non-null  float64\n",
      " 2   Tot_TL_closed_L12M            42064 non-null  int64  \n",
      " 3   pct_tl_closed_L12M            42064 non-null  float64\n",
      " 4   Tot_Missed_Pmnt               42064 non-null  int64  \n",
      " 5   CC_TL                         42064 non-null  int64  \n",
      " 6   Home_TL                       42064 non-null  int64  \n",
      " 7   PL_TL                         42064 non-null  int64  \n",
      " 8   Secured_TL                    42064 non-null  int64  \n",
      " 9   Unsecured_TL                  42064 non-null  int64  \n",
      " 10  Other_TL                      42064 non-null  int64  \n",
      " 11  Age_Oldest_TL                 42064 non-null  int64  \n",
      " 12  Age_Newest_TL                 42064 non-null  int64  \n",
      " 13  time_since_recent_payment     42064 non-null  int64  \n",
      " 14  max_recent_level_of_deliq     42064 non-null  int64  \n",
      " 15  num_deliq_6_12mts             42064 non-null  int64  \n",
      " 16  num_times_60p_dpd             42064 non-null  int64  \n",
      " 17  num_std_12mts                 42064 non-null  int64  \n",
      " 18  num_sub                       42064 non-null  int64  \n",
      " 19  num_sub_6mts                  42064 non-null  int64  \n",
      " 20  num_sub_12mts                 42064 non-null  int64  \n",
      " 21  num_dbt                       42064 non-null  int64  \n",
      " 22  num_dbt_12mts                 42064 non-null  int64  \n",
      " 23  num_lss                       42064 non-null  int64  \n",
      " 24  recent_level_of_deliq         42064 non-null  int64  \n",
      " 25  CC_enq_L12m                   42064 non-null  int64  \n",
      " 26  PL_enq_L12m                   42064 non-null  int64  \n",
      " 27  time_since_recent_enq         42064 non-null  int64  \n",
      " 28  enq_L3m                       42064 non-null  int64  \n",
      " 29  NETMONTHLYINCOME              42064 non-null  int64  \n",
      " 30  Time_With_Curr_Empr           42064 non-null  int64  \n",
      " 31  CC_Flag                       42064 non-null  int64  \n",
      " 32  PL_Flag                       42064 non-null  int64  \n",
      " 33  pct_PL_enq_L6m_of_ever        42064 non-null  float64\n",
      " 34  pct_CC_enq_L6m_of_ever        42064 non-null  float64\n",
      " 35  HL_Flag                       42064 non-null  int64  \n",
      " 36  GL_Flag                       42064 non-null  int64  \n",
      " 37  EDUCATION                     42064 non-null  int32  \n",
      " 38  Approved_Flag                 42064 non-null  object \n",
      " 39  MARITALSTATUS_Married         42064 non-null  uint8  \n",
      " 40  MARITALSTATUS_Single          42064 non-null  uint8  \n",
      " 41  GENDER_F                      42064 non-null  uint8  \n",
      " 42  GENDER_M                      42064 non-null  uint8  \n",
      " 43  last_prod_enq2_AL             42064 non-null  uint8  \n",
      " 44  last_prod_enq2_CC             42064 non-null  uint8  \n",
      " 45  last_prod_enq2_ConsumerLoan   42064 non-null  uint8  \n",
      " 46  last_prod_enq2_HL             42064 non-null  uint8  \n",
      " 47  last_prod_enq2_PL             42064 non-null  uint8  \n",
      " 48  last_prod_enq2_others         42064 non-null  uint8  \n",
      " 49  first_prod_enq2_AL            42064 non-null  uint8  \n",
      " 50  first_prod_enq2_CC            42064 non-null  uint8  \n",
      " 51  first_prod_enq2_ConsumerLoan  42064 non-null  uint8  \n",
      " 52  first_prod_enq2_HL            42064 non-null  uint8  \n",
      " 53  first_prod_enq2_PL            42064 non-null  uint8  \n",
      " 54  first_prod_enq2_others        42064 non-null  uint8  \n",
      "dtypes: float64(5), int32(1), int64(32), object(1), uint8(16)\n",
      "memory usage: 13.3+ MB\n"
     ]
    }
   ],
   "source": [
    "#one hot encoding\n",
    "df_encoded = pd.get_dummies(df, columns=['MARITALSTATUS','GENDER', 'last_prod_enq2' ,'first_prod_enq2'])\n",
    "df_encoded.info()\n"
   ]
  },
  {
   "cell_type": "code",
   "execution_count": 257,
   "id": "e8265b89",
   "metadata": {},
   "outputs": [
    {
     "data": {
      "text/plain": [
       "(42064, 55)"
      ]
     },
     "execution_count": 257,
     "metadata": {},
     "output_type": "execute_result"
    }
   ],
   "source": [
    "df_encoded.shape"
   ]
  },
  {
   "cell_type": "code",
   "execution_count": 258,
   "id": "d6d3b1db",
   "metadata": {},
   "outputs": [],
   "source": [
    "df_encoded_final = df_encoded[0:41500]"
   ]
  },
  {
   "cell_type": "code",
   "execution_count": 260,
   "id": "f84ee573",
   "metadata": {},
   "outputs": [
    {
     "data": {
      "text/plain": [
       "(41500, 55)"
      ]
     },
     "execution_count": 260,
     "metadata": {},
     "output_type": "execute_result"
    }
   ],
   "source": [
    "df_encoded_final.shape"
   ]
  },
  {
   "cell_type": "code",
   "execution_count": 263,
   "id": "c61d757b",
   "metadata": {},
   "outputs": [],
   "source": [
    "df_test = df_encoded[41500:]"
   ]
  },
  {
   "cell_type": "code",
   "execution_count": 264,
   "id": "bcd31116",
   "metadata": {},
   "outputs": [
    {
     "data": {
      "text/plain": [
       "(564, 55)"
      ]
     },
     "execution_count": 264,
     "metadata": {},
     "output_type": "execute_result"
    }
   ],
   "source": [
    "df_test.shape"
   ]
  },
  {
   "cell_type": "code",
   "execution_count": 265,
   "id": "60a5ef9c",
   "metadata": {},
   "outputs": [],
   "source": [
    "# Save df_encoded DataFrame to a CSV file named 'data_for_model.csv'\n",
    "df_encoded_final.to_csv(\"data_for_model.csv\", index=False)\n"
   ]
  },
  {
   "cell_type": "code",
   "execution_count": 266,
   "id": "f882e493",
   "metadata": {},
   "outputs": [],
   "source": [
    "df_test.to_csv(\"data_for_testing.csv\", index=False)"
   ]
  },
  {
   "cell_type": "code",
   "execution_count": 267,
   "id": "22ac3a19",
   "metadata": {},
   "outputs": [
    {
     "data": {
      "text/plain": [
       "(41500, 55)"
      ]
     },
     "execution_count": 267,
     "metadata": {},
     "output_type": "execute_result"
    }
   ],
   "source": [
    "data1 = pd.read_csv(\"data_for_model.csv\")\n",
    "data1.shape"
   ]
  },
  {
   "cell_type": "code",
   "execution_count": 268,
   "id": "d41278ec",
   "metadata": {},
   "outputs": [
    {
     "data": {
      "text/plain": [
       "(564, 55)"
      ]
     },
     "execution_count": 268,
     "metadata": {},
     "output_type": "execute_result"
    }
   ],
   "source": [
    "data2 = pd.read_csv(\"data_for_testing.csv\")\n",
    "data2.shape"
   ]
  },
  {
   "cell_type": "code",
   "execution_count": null,
   "id": "110502a0",
   "metadata": {},
   "outputs": [],
   "source": []
  }
 ],
 "metadata": {
  "kernelspec": {
   "display_name": "Python 3 (ipykernel)",
   "language": "python",
   "name": "python3"
  },
  "language_info": {
   "codemirror_mode": {
    "name": "ipython",
    "version": 3
   },
   "file_extension": ".py",
   "mimetype": "text/x-python",
   "name": "python",
   "nbconvert_exporter": "python",
   "pygments_lexer": "ipython3",
   "version": "3.10.7"
  }
 },
 "nbformat": 4,
 "nbformat_minor": 5
}
